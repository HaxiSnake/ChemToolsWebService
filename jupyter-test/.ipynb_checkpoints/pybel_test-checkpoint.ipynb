{
 "cells": [
  {
   "cell_type": "code",
   "execution_count": 10,
   "metadata": {},
   "outputs": [
    {
     "name": "stdout",
     "output_type": "stream",
     "text": [
      "<type 'unicode'>\n",
      "success\n",
      "<_sre.SRE_Match object at 0x2aae8d89bb90>\n"
     ]
    }
   ],
   "source": [
    "import re\n",
    "SHA1_RE = re.compile('^[a-f0-9]{40}$')  # Activation Key\n",
    "activation_key=u'f1b1ebe5f12cc28920efaaf4e3de3daebcc9360e'\n",
    "print(type(activation_key))\n",
    "if SHA1_RE.search(activation_key):\n",
    "    print(\"success\")\n",
    "else:\n",
    "    print(\"fail\")\n",
    "print(SHA1_RE.search(activation_key))"
   ]
  },
  {
   "cell_type": "code",
   "execution_count": 4,
   "metadata": {},
   "outputs": [],
   "source": [
    "import pybel\n",
    "\n",
    "# SMILE_code=\"c1CCCCc1\"\n",
    "SMILE_code=\"C=CC=C\"\n",
    "\n",
    "molecule=pybel.readstring(\"smi\",SMILE_code)\n",
    "\n",
    "molecule.make3D(forcefield='UFF',steps=100)\n",
    "\n",
    "#生成Gaussian 输入文件，略过前面软件声明部分\n",
    "\n",
    "# print (molecule.write(\"mol\")[55:])\n",
    "with open(\"test.mol\",'w') as f:\n",
    "    f.write(molecule.write(\"mol\")[55:])"
   ]
  },
  {
   "cell_type": "code",
   "execution_count": 5,
   "metadata": {},
   "outputs": [],
   "source": [
    "import pybel\n"
   ]
  },
  {
   "cell_type": "code",
   "execution_count": 7,
   "metadata": {},
   "outputs": [],
   "source": [
    "fpath=\"ch4.mol\"\n",
    "ppath=\"test.png\"\n",
    "mol = pybel.readfile(\"mol\", fpath).next()\n",
    "mol.draw(show=False, filename=ppath)"
   ]
  }
 ],
 "metadata": {
  "kernelspec": {
   "display_name": "ctws",
   "language": "python",
   "name": "ctws"
  },
  "language_info": {
   "codemirror_mode": {
    "name": "ipython",
    "version": 2
   },
   "file_extension": ".py",
   "mimetype": "text/x-python",
   "name": "python",
   "nbconvert_exporter": "python",
   "pygments_lexer": "ipython2",
   "version": "2.7.12"
  }
 },
 "nbformat": 4,
 "nbformat_minor": 2
}
